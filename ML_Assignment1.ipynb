{
 "cells": [
  {
   "cell_type": "code",
   "execution_count": 101,
   "id": "a3b2a725",
   "metadata": {},
   "outputs": [
    {
     "name": "stdout",
     "output_type": "stream",
     "text": [
      "[19, 19, 20, 22, 24, 24, 24, 25, 25, 26]\n",
      "The Minimum Age is : 19\n",
      "The Maximum Age is : 26\n",
      "[19, 19, 20, 22, 24, 24, 24, 25, 25, 26, 19, 26]\n",
      "The Median is : 24\n",
      "The Average age is: 22\n",
      "The range is : 7\n"
     ]
    }
   ],
   "source": [
    "ages = [19, 22, 19, 24, 20, 25, 26, 24, 25, 24]\n",
    "ages.sort() #Sorting the list \n",
    "print(ages)\n",
    "MinAge = ages[0] # finding the minimum age\n",
    "MaxAge = ages[len(ages)-1] # finding the maximum age\n",
    "print(\"The Minimum Age is :\",MinAge)\n",
    "print(\"The Maximum Age is :\",MaxAge)\n",
    "#appending max and min ages to the list\n",
    "ages.append(MinAge) \n",
    "ages.append(MaxAge)\n",
    "print(ages)\n",
    "#finding mid index in list\n",
    "mid = (len(ages)-1)//2\n",
    "if (mid != 0):\n",
    "    Median = ages[mid]\n",
    "else:\n",
    "    Median = (ages[mid]+ages[mid+1])/2\n",
    "print(\"The Median is :\",Median)\n",
    "total=0 \n",
    "#finding the average age (sum/total)\n",
    "for i in ages:\n",
    "    total += i\n",
    "    AverageAge= total // len(ages)\n",
    "print(\"The Average age is:\",AverageAge)\n",
    "#caluculating the range \n",
    "print(\"The range is :\", (MaxAge-MinAge))\n",
    "print(\"Thank You!\")\n"
   ]
  },
  {
   "cell_type": "code",
   "execution_count": 130,
   "id": "6e12f1c5",
   "metadata": {},
   "outputs": [
    {
     "name": "stdout",
     "output_type": "stream",
     "text": [
      "The Dog dictionary is : {'name': ('Honey Bun',), 'color': ('Brown',), 'breed': ('pug',), 'legs': ('4',), 'age': ('1',)}\n",
      "The Student Dictionary is : {'first_name': 'Sri Lakshmi', 'last_name': 'Chereddy', 'gender': 'Female', 'age': '22', 'marital status': 'UnMarried', 'skills': ['Self Management', 'Dancing'], 'country': 'India', 'city': 'Nellore', 'address': 'Guntur'}\n",
      "The length of the student dictionary is: 9\n",
      "Students skills are: ['Self Management', 'Dancing']\n",
      "The type is: <class 'list'>\n",
      "Modified Students skills are: ['Self Management', 'Dancing', 'Cooking']\n",
      "The list of student keys: ['first_name', 'last_name', 'gender', 'age', 'marital status', 'skills', 'country', 'city', 'address']\n",
      "The list of student values: ['Sri Lakshmi', 'Chereddy', 'Female', '22', 'UnMarried', ['Self Management', 'Dancing', 'Cooking'], 'India', 'Nellore', 'Guntur']\n"
     ]
    }
   ],
   "source": [
    "dog =dict() # creating an empty dictionary\n",
    "# adding keys and values for the created dictionary\n",
    "dog[\"name\"] = \"Honey Bun\",\n",
    "dog[\"color\"] = \"Brown\",\n",
    "dog[\"breed\"] = \"pug\",\n",
    "dog[\"legs\"] = \"4\",\n",
    "dog[\"age\"] = \"1\",\n",
    "print(\"The Dog dictionary is :\",dog)\n",
    "# Creating student dictionary with the given keys \n",
    "student = {\n",
    "    \"first_name\" : \"Sri Lakshmi\",\n",
    "    \"last_name\" : \"Chereddy\",\n",
    "    \"gender\" : \"Female\",\n",
    "    \"age\" : \"22\",\n",
    "    \"marital status\": \"UnMarried\",\n",
    "    \"skills\" : [\"Self Management\",\"Dancing\"],\n",
    "    \"country\": \"India\",\n",
    "    \"city\" : \"Nellore\",\n",
    "    \"address\" : \"Guntur\",\n",
    "}\n",
    "print(\"The Student Dictionary is :\",student)\n",
    "# finding the length of student dictionary\n",
    "l=len(student)\n",
    "print(\"The length of the student dictionary is:\",l)\n",
    "# fetching the details of student skills\n",
    "print(\"Students skills are:\",student[\"skills\"])\n",
    "# checking the datatype\n",
    "print(\"The type is:\",type(student[\"skills\"]))\n",
    "# modifying the student skills \n",
    "student[\"skills\"].append(\"Cooking\")\n",
    "print(\"Modified Students skills are:\",student[\"skills\"])\n",
    "#fetching keys and values of the student dictionary seperately\n",
    "print(\"The list of student keys:\",list(student.keys()))\n",
    "print(\"The list of student values:\",list(student.values()))"
   ]
  },
  {
   "cell_type": "code",
   "execution_count": 131,
   "id": "96831598",
   "metadata": {},
   "outputs": [
    {
     "name": "stdout",
     "output_type": "stream",
     "text": [
      "('Navya', 'Kavya', 'Harshitha', 'Saanvi', 'Mahesh', 'Nani', 'Sunny', 'Abhi')\n",
      "I have 8 siblings\n",
      "My Family Members are: ('Navya', 'Kavya', 'Harshitha', 'Saanvi', 'Mahesh', 'Nani', 'Sunny', 'Abhi', 'Siva Reddy', 'Padma')\n"
     ]
    }
   ],
   "source": [
    "# creating two tuples \n",
    "Sisters = (\"Navya\",\"Kavya\",\"Harshitha\",\"Saanvi\")\n",
    "Brothers = (\"Mahesh\",\"Nani\",\"Sunny\",\"Abhi\")\n",
    "# Joining the two tuples in another tuple \n",
    "Siblings = Sisters + Brothers\n",
    "print(Siblings)\n",
    "# finding the length of siblings tuple\n",
    "print(\"I have\", len(Siblings),\"siblings\")\n",
    "# converting tuple into a list because tuple is immutable\n",
    "l = list(Siblings)\n",
    "#apending mother and father to the list\n",
    "l.append(\"Siva Reddy\")\n",
    "l.append(\"Padma\")\n",
    "#converting the list to tuple \n",
    "family_members = tuple(l)\n",
    "print(\"My Family Members are:\",family_members)\n"
   ]
  },
  {
   "cell_type": "code",
   "execution_count": 96,
   "id": "82d9d787",
   "metadata": {},
   "outputs": [
    {
     "name": "stdout",
     "output_type": "stream",
     "text": [
      "The Length of set it_companies is: 7\n",
      "{'Apple', 'Amazon', 'Facebook', 'Twitter', 'Google', 'Oracle', 'IBM', 'Microsoft'}\n",
      "{'Google', 'Oracle', 'IBM', 'Apple', 'Tcs', 'Cognizant', 'Amazon', 'Microsoft', 'Wipro', 'Facebook', 'Twitter'}\n",
      "{'Google', 'Oracle', 'IBM', 'Tcs', 'Cognizant', 'Amazon', 'Microsoft', 'Wipro', 'Facebook', 'Twitter'}\n",
      "{19, 20, 22, 24, 25, 26, 27, 28}\n",
      "{19, 20, 22, 24, 25, 26}\n",
      "A is subset of B\n",
      "A & B are not disjoint sets\n",
      "Join A & B is: {19, 20, 22, 24, 25, 26, 27, 28}\n",
      "Join B & A is: {19, 20, 22, 24, 25, 26, 27, 28}\n",
      "The symmetric diffrence between A & B is: {27, 28}\n",
      "The set of list is: {19, 22, 24, 25, 26}\n",
      "The length of the list is: 8\n",
      "The length of the set is: 5\n"
     ]
    }
   ],
   "source": [
    "it_companies = {'Facebook', 'Google', 'Microsoft', 'Apple', 'IBM', 'Oracle', 'Amazon'}\n",
    "A = {19, 22, 24, 20, 25, 26}\n",
    "B = {19, 22, 20, 25, 26, 24, 28, 27}\n",
    "age = [22, 19, 24, 25, 26, 24, 25, 24]\n",
    "print(\"The Length of set it_companies is:\",len(it_companies)) # length of the set\n",
    "it_companies.add(\"Twitter\") # add method for adding a single value \n",
    "print(it_companies) \n",
    "it_companies.update([\"Tcs\",\"Cognizant\",\"Wipro\"]) # update method for adding multiple values \n",
    "print(it_companies) \n",
    "it_companies.remove(\"Apple\") # removing one company from the set\n",
    "print(it_companies)\n",
    "# remove will throw an exception if we try to delete the value which is not present in the given set\n",
    "# unlike remove, discard will either delete the value if it is present in set or just come out of the loop\n",
    "print(A.union(B)) # Join A & B\n",
    "print(A.intersection(B)) # Intersection of A & B\n",
    "if A.issubset(B): # checking if A is subset of B\n",
    "    print(\"A is subset of B\")\n",
    "else:\n",
    "    print(\"A is not subset of B\")\n",
    "if A.isdisjoint(B): # Checking if A & B are disjoint or not \n",
    "    print(\"A & B are disjoint sets\")\n",
    "else:\n",
    "    print(\"A & B are not disjoint sets\")\n",
    "A_B= A.union(B) # A join with B\n",
    "B_A = B.union(A) # B join with B\n",
    "print(\"Join A & B is:\",A_B)\n",
    "print(\"Join B & A is:\",B_A)\n",
    "# Finding the elements that are present either in A or B but not both\n",
    "print(\"The symmetric diffrence between A & B is:\",A.symmetric_difference(B))\n",
    "del A # deleting A set\n",
    "del B # deleting B set\n",
    "set_of_age=set(age) # converting list to set\n",
    "print(\"The set of list is:\",set_of_age)\n",
    "# Length of set and list will be diffrent because set do not encourage the duplicate/repetitive items \n",
    "print(\"The length of the list is:\",len(age))\n",
    "print(\"The length of the set is:\",len(set_of_age))"
   ]
  },
  {
   "cell_type": "code",
   "execution_count": 104,
   "id": "85746a36",
   "metadata": {},
   "outputs": [
    {
     "name": "stdout",
     "output_type": "stream",
     "text": [
      "The area of the circle is 2826.0\n",
      "The circumference of the circle is: 188.4\n",
      "Enter the radius value:\n",
      "5\n",
      "The area of the circle is: 78.5\n"
     ]
    }
   ],
   "source": [
    "radius=30\n",
    "_area_of_circle_= 3.14 *(radius**2) # finding the area of circle\n",
    "print(\"The area of the circle is\",_area_of_circle_)\n",
    "_circum_of_circle_= 2 * 3.14 * radius # finding the circumference of the circle\n",
    "print(\"The circumference of the circle is:\",_circum_of_circle_)\n",
    "print(\"Enter the radius value:\")\n",
    "rad = int(input()) # reading input from the user \n",
    "area=3.14 * (rad**2)\n",
    "print(\"The area of the circle is:\",area)"
   ]
  },
  {
   "cell_type": "code",
   "execution_count": 132,
   "id": "99693d8e",
   "metadata": {},
   "outputs": [
    {
     "name": "stdout",
     "output_type": "stream",
     "text": [
      "The unique words count is: 10\n"
     ]
    }
   ],
   "source": [
    "sentense=\"I am a teacher and I love to inspire and teach people\"\n",
    "sentense=sentense.split() # splitting the sentense \n",
    "#print(sentense)\n",
    "set_sentense=set(sentense) # converting the splitted sentense into a set\n",
    "#print(set_sentense)\n",
    "print(\"The unique words count is:\",len(set_sentense))"
   ]
  },
  {
   "cell_type": "code",
   "execution_count": 109,
   "id": "614eceaf",
   "metadata": {},
   "outputs": [
    {
     "name": "stdout",
     "output_type": "stream",
     "text": [
      "Name\t\tAge\t\tCountry\t\tCity\n",
      "Asabeneh\t250\t\tFinland\t\tHelsinki\n"
     ]
    }
   ],
   "source": [
    "print(\"Name\\t\\tAge\\t\\tCountry\\t\\tCity\\nAsabeneh\\t250\\t\\tFinland\\t\\tHelsinki\") #\\t for tab and \\n for another line "
   ]
  },
  {
   "cell_type": "code",
   "execution_count": 122,
   "id": "32a76199",
   "metadata": {},
   "outputs": [
    {
     "name": "stdout",
     "output_type": "stream",
     "text": [
      "The area of a circle with radius 10 is 314 meters square.\n"
     ]
    }
   ],
   "source": [
    "radius = 10\n",
    "area = int(3.14 * radius ** 2)\n",
    "# using string formatting method \n",
    "print(\"The area of a circle with radius {} is {} meters square.\".format(str(radius), str(area))) "
   ]
  },
  {
   "cell_type": "code",
   "execution_count": 133,
   "id": "5d9edb12",
   "metadata": {},
   "outputs": [
    {
     "name": "stdout",
     "output_type": "stream",
     "text": [
      "Enter the number of students : \n",
      "4\n",
      "Enter the weights : \n",
      "150\n",
      "155\n",
      "145\n",
      "148\n",
      "Weight in Lb :  [150, 155, 145, 148]\n",
      "Weight in Kg : [68.04, 70.31, 65.77, 67.13]\n"
     ]
    }
   ],
   "source": [
    "#creating two empty lists for lb and kg weights \n",
    "wt_lb = []\n",
    "wt_kg = []\n",
    "print(\"Enter the number of students : \")\n",
    "n=int(input()) # reading the value from user \n",
    "print(\"Enter the weights : \")\n",
    "for i in range (0,n):\n",
    "    wt_lb.append(int(input())) # appending the user values to a list \n",
    "print(\"Weight in Lb : \", wt_lb)\n",
    "for i in wt_lb:\n",
    "    i=round((i*0.45359237),2) # converting lb to kg and rounding to two decimals \n",
    "    wt_kg.append(i)\n",
    "print(\"Weight in Kg :\",wt_kg)"
   ]
  },
  {
   "cell_type": "code",
   "execution_count": null,
   "id": "db16c5fe",
   "metadata": {},
   "outputs": [],
   "source": []
  },
  {
   "cell_type": "code",
   "execution_count": null,
   "id": "26b44094",
   "metadata": {},
   "outputs": [],
   "source": []
  }
 ],
 "metadata": {
  "kernelspec": {
   "display_name": "Python 3 (ipykernel)",
   "language": "python",
   "name": "python3"
  },
  "language_info": {
   "codemirror_mode": {
    "name": "ipython",
    "version": 3
   },
   "file_extension": ".py",
   "mimetype": "text/x-python",
   "name": "python",
   "nbconvert_exporter": "python",
   "pygments_lexer": "ipython3",
   "version": "3.10.7"
  }
 },
 "nbformat": 4,
 "nbformat_minor": 5
}
